{
 "cells": [
  {
   "cell_type": "code",
   "execution_count": 1,
   "metadata": {
    "id": "v086I3AlnIU8"
   },
   "outputs": [],
   "source": [
    "import numpy as np\n",
    "import pickle\n",
    "import cv2\n",
    "import tensorflow\n",
    "import seaborn as sn\n",
    "from os import listdir\n",
    "from sklearn.preprocessing import LabelBinarizer\n",
    "from keras.applications import MobileNet\n",
    "from keras.models import Model\n",
    "from tensorflow.keras.layers import GlobalAveragePooling2D\n",
    "from keras.layers.core import Dropout, Dense\n",
    "from keras.preprocessing.image import ImageDataGenerator\n",
    "from tensorflow.keras.optimizers.legacy import Adam\n",
    "from keras.preprocessing import image\n",
    "from tensorflow.keras.utils import img_to_array\n",
    "import matplotlib.pyplot as plt\n",
    "from sklearn.model_selection import KFold\n",
    "from sklearn.model_selection import train_test_split\n",
    "from tensorflow.keras.callbacks import EarlyStopping\n",
    "from sklearn.metrics import confusion_matrix, accuracy_score, f1_score, precision_score, recall_score"
   ]
  },
  {
   "cell_type": "code",
   "execution_count": 2,
   "metadata": {
    "id": "Od_iMcRtnIVB"
   },
   "outputs": [],
   "source": [
    "EPOCHS = 25\n",
    "INIT_LR = 0.001\n",
    "BS = 32\n",
    "default_image_size = tuple((224, 224))\n",
    "image_size = 0\n",
    "directory_root = 'D:\\\\KULIAH\\\\SKRIPSI\\\\Dataset'\n",
    "width=224\n",
    "height=224\n",
    "depth=3\n",
    "num_folds = 5"
   ]
  },
  {
   "cell_type": "code",
   "execution_count": 3,
   "metadata": {
    "id": "aK-760s3nIVD"
   },
   "outputs": [],
   "source": [
    "def convert_image_to_array(image_dir):\n",
    "    try:\n",
    "        image = cv2.imread(image_dir)\n",
    "        if image is not None :\n",
    "            image = cv2.resize(image, default_image_size)   \n",
    "            return img_to_array(image)\n",
    "        else :\n",
    "            return np.array([])\n",
    "    except Exception as e:\n",
    "        print(f\"Error : {e}\")\n",
    "        return None"
   ]
  },
  {
   "cell_type": "code",
   "execution_count": 4,
   "metadata": {
    "id": "1ZgR7dScnIVE",
    "scrolled": true
   },
   "outputs": [
    {
     "name": "stdout",
     "output_type": "stream",
     "text": [
      "[INFO] Loading images ...\n",
      "[INFO] Processing Potato___Early_blight ...\n",
      "[INFO] Processing Potato___healthy ...\n",
      "[INFO] Processing Potato___Late_blight ...\n",
      "[INFO] Processing Tomato_Early_blight ...\n",
      "[INFO] Processing Tomato_healthy ...\n",
      "[INFO] Processing Tomato_Late_blight ...\n",
      "[INFO] Image loading completed\n"
     ]
    }
   ],
   "source": [
    "image_list, label_list = [], []\n",
    "try:\n",
    "    print(\"[INFO] Loading images ...\")\n",
    "    root_dir = listdir(directory_root)\n",
    "    for directory in root_dir :\n",
    "        # remove .DS_Store from list\n",
    "        if directory == \".DS_Store\" :\n",
    "            root_dir.remove(directory)\n",
    "\n",
    "    for plant_folder in root_dir :\n",
    "        plant_disease_folder_list = listdir(f\"{directory_root}/{plant_folder}\")\n",
    "        \n",
    "        for disease_folder in plant_disease_folder_list :\n",
    "            # remove .DS_Store from list\n",
    "            if disease_folder == \".DS_Store\" :\n",
    "                plant_disease_folder_list.remove(disease_folder)\n",
    "\n",
    "        for plant_disease_folder in plant_disease_folder_list:\n",
    "            print(f\"[INFO] Processing {plant_disease_folder} ...\")\n",
    "            plant_disease_image_list = listdir(f\"{directory_root}/{plant_folder}/{plant_disease_folder}/\")\n",
    "           \n",
    "                \n",
    "            for single_plant_disease_image in plant_disease_image_list :\n",
    "                if single_plant_disease_image == \".DS_Store\" :\n",
    "                    plant_disease_image_list.remove(single_plant_disease_image)\n",
    "\n",
    "            for image in plant_disease_image_list[:200]:\n",
    "                image_directory = f\"{directory_root}/{plant_folder}/{plant_disease_folder}/{image}\"\n",
    "                if image_directory.endswith(\".jpg\") == True or image_directory.endswith(\".JPG\") == True:\n",
    "                    image_list.append(convert_image_to_array(image_directory))\n",
    "                    label_list.append(plant_disease_folder)\n",
    "    print(\"[INFO] Image loading completed\")  \n",
    "except Exception as e:\n",
    "    print(f\"Error : {e}\")"
   ]
  },
  {
   "cell_type": "code",
   "execution_count": 5,
   "metadata": {
    "id": "xLnXcZBOnIVI"
   },
   "outputs": [],
   "source": [
    "image_size = len(image_list)"
   ]
  },
  {
   "cell_type": "code",
   "execution_count": 6,
   "metadata": {
    "id": "zvBrFRPGnIVJ"
   },
   "outputs": [],
   "source": [
    "label_binarizer = LabelBinarizer()\n",
    "image_labels = label_binarizer.fit_transform(label_list)\n",
    "pickle.dump(label_binarizer,open('label_transform.pkl', 'wb'))\n",
    "n_classes = len(label_binarizer.classes_)"
   ]
  },
  {
   "cell_type": "code",
   "execution_count": 7,
   "metadata": {
    "id": "PsEW0sCfnIVK",
    "scrolled": true
   },
   "outputs": [
    {
     "name": "stdout",
     "output_type": "stream",
     "text": [
      "['Potato___Early_blight' 'Potato___Late_blight' 'Potato___healthy'\n",
      " 'Tomato_Early_blight' 'Tomato_Late_blight' 'Tomato_healthy']\n"
     ]
    }
   ],
   "source": [
    "print(label_binarizer.classes_)"
   ]
  },
  {
   "cell_type": "code",
   "execution_count": 8,
   "metadata": {},
   "outputs": [],
   "source": [
    "np_image_list = np.array(image_list, dtype=np.float32) / 225.0"
   ]
  },
  {
   "cell_type": "code",
   "execution_count": 9,
   "metadata": {},
   "outputs": [
    {
     "name": "stdout",
     "output_type": "stream",
     "text": [
      "[INFO] Splitting data to train, test\n"
     ]
    }
   ],
   "source": [
    "print(\"[INFO] Splitting data to train, test\")\n",
    "X_train, X_test, Y_train, Y_test = train_test_split(np_image_list, image_labels, test_size=0.1, random_state = 42) "
   ]
  },
  {
   "cell_type": "code",
   "execution_count": 10,
   "metadata": {},
   "outputs": [],
   "source": [
    "aug = ImageDataGenerator(\n",
    "    rotation_range=25,\n",
    "    width_shift_range=0.1,\n",
    "    height_shift_range=0.1,\n",
    "    shear_range=0.2,\n",
    "    zoom_range=0.2,\n",
    "    horizontal_flip=True,\n",
    "    fill_mode=\"nearest\")"
   ]
  },
  {
   "cell_type": "code",
   "execution_count": 11,
   "metadata": {},
   "outputs": [],
   "source": [
    "# Define per-fold score containers\n",
    "acc_per_fold = []\n",
    "loss_per_fold = []"
   ]
  },
  {
   "cell_type": "code",
   "execution_count": 12,
   "metadata": {
    "colab": {
     "base_uri": "https://localhost:8080/"
    },
    "id": "HYjQTQGrnIVN",
    "outputId": "f01b320f-ec98-4df7-9ec1-45755cf023b2",
    "scrolled": false
   },
   "outputs": [
    {
     "name": "stdout",
     "output_type": "stream",
     "text": [
      "Training for fold 1 ...\n",
      "Epoch 1/25\n",
      "25/25 [==============================] - 22s 812ms/step - loss: 1.2043 - accuracy: 0.6030 - val_loss: 0.4431 - val_accuracy: 0.8125\n",
      "Epoch 2/25\n",
      "25/25 [==============================] - 20s 805ms/step - loss: 0.4958 - accuracy: 0.8191 - val_loss: 0.2646 - val_accuracy: 0.8990\n",
      "Epoch 3/25\n",
      "25/25 [==============================] - 20s 804ms/step - loss: 0.3088 - accuracy: 0.8756 - val_loss: 0.3162 - val_accuracy: 0.8702\n",
      "Epoch 4/25\n",
      "25/25 [==============================] - 20s 799ms/step - loss: 0.2518 - accuracy: 0.8982 - val_loss: 0.2108 - val_accuracy: 0.9231\n",
      "Epoch 5/25\n",
      "25/25 [==============================] - 20s 803ms/step - loss: 0.2143 - accuracy: 0.9271 - val_loss: 0.2061 - val_accuracy: 0.9375\n",
      "Epoch 6/25\n",
      "25/25 [==============================] - 20s 790ms/step - loss: 0.1723 - accuracy: 0.9372 - val_loss: 0.2101 - val_accuracy: 0.9231\n",
      "Epoch 7/25\n",
      "25/25 [==============================] - 20s 800ms/step - loss: 0.1672 - accuracy: 0.9334 - val_loss: 0.2536 - val_accuracy: 0.9087\n",
      "Epoch 8/25\n",
      "25/25 [==============================] - 20s 782ms/step - loss: 0.1297 - accuracy: 0.9573 - val_loss: 0.2581 - val_accuracy: 0.9135\n",
      "Epoch 9/25\n",
      "25/25 [==============================] - 20s 793ms/step - loss: 0.1602 - accuracy: 0.9384 - val_loss: 0.1876 - val_accuracy: 0.9231\n",
      "Epoch 10/25\n",
      "25/25 [==============================] - 20s 796ms/step - loss: 0.1413 - accuracy: 0.9535 - val_loss: 0.1977 - val_accuracy: 0.9231\n",
      "Epoch 11/25\n",
      "25/25 [==============================] - 20s 809ms/step - loss: 0.0999 - accuracy: 0.9648 - val_loss: 0.2457 - val_accuracy: 0.9231\n",
      "Epoch 12/25\n",
      "25/25 [==============================] - 20s 802ms/step - loss: 0.1467 - accuracy: 0.9425 - val_loss: 0.2190 - val_accuracy: 0.9183\n",
      "Epoch 13/25\n",
      "25/25 [==============================] - 20s 792ms/step - loss: 0.1391 - accuracy: 0.9384 - val_loss: 0.2995 - val_accuracy: 0.9038\n",
      "Epoch 14/25\n",
      "25/25 [==============================] - 20s 803ms/step - loss: 0.1053 - accuracy: 0.9611 - val_loss: 0.2238 - val_accuracy: 0.9231\n",
      "Epoch 15/25\n",
      "25/25 [==============================] - 20s 808ms/step - loss: 0.0918 - accuracy: 0.9673 - val_loss: 0.1919 - val_accuracy: 0.9327\n",
      "Score for fold 1: loss of 0.191859170794487; accuracy of 93.2692289352417%\n",
      "------------------------------------------------------------------------\n",
      "Training for fold 2 ...\n",
      "Epoch 1/25\n",
      "25/25 [==============================] - 21s 810ms/step - loss: 1.1459 - accuracy: 0.5960 - val_loss: 0.4363 - val_accuracy: 0.8116\n",
      "Epoch 2/25\n",
      "25/25 [==============================] - 20s 808ms/step - loss: 0.4188 - accuracy: 0.8407 - val_loss: 0.2652 - val_accuracy: 0.8889\n",
      "Epoch 3/25\n",
      "25/25 [==============================] - 20s 784ms/step - loss: 0.2778 - accuracy: 0.8971 - val_loss: 0.2114 - val_accuracy: 0.9130\n",
      "Epoch 4/25\n",
      "25/25 [==============================] - 20s 787ms/step - loss: 0.3115 - accuracy: 0.8795 - val_loss: 0.1860 - val_accuracy: 0.9372\n",
      "Epoch 5/25\n",
      "25/25 [==============================] - 20s 796ms/step - loss: 0.2762 - accuracy: 0.8984 - val_loss: 0.2686 - val_accuracy: 0.8937\n",
      "Epoch 6/25\n",
      "25/25 [==============================] - 20s 787ms/step - loss: 0.2193 - accuracy: 0.9084 - val_loss: 0.1406 - val_accuracy: 0.9420\n",
      "Epoch 7/25\n",
      "25/25 [==============================] - 20s 803ms/step - loss: 0.1611 - accuracy: 0.9348 - val_loss: 0.1502 - val_accuracy: 0.9372\n",
      "Epoch 8/25\n",
      "25/25 [==============================] - 20s 796ms/step - loss: 0.1650 - accuracy: 0.9435 - val_loss: 0.1371 - val_accuracy: 0.9372\n",
      "Epoch 9/25\n",
      "25/25 [==============================] - 20s 792ms/step - loss: 0.1415 - accuracy: 0.9475 - val_loss: 0.1566 - val_accuracy: 0.9372\n",
      "Epoch 10/25\n",
      "25/25 [==============================] - 20s 797ms/step - loss: 0.1463 - accuracy: 0.9486 - val_loss: 0.1503 - val_accuracy: 0.9372\n",
      "Epoch 11/25\n",
      "25/25 [==============================] - 20s 787ms/step - loss: 0.1332 - accuracy: 0.9561 - val_loss: 0.1381 - val_accuracy: 0.9372\n",
      "Epoch 12/25\n",
      "25/25 [==============================] - 20s 785ms/step - loss: 0.1378 - accuracy: 0.9448 - val_loss: 0.1383 - val_accuracy: 0.9469\n",
      "Epoch 13/25\n",
      "25/25 [==============================] - 20s 791ms/step - loss: 0.1318 - accuracy: 0.9486 - val_loss: 0.1230 - val_accuracy: 0.9372\n",
      "Epoch 14/25\n",
      "25/25 [==============================] - 20s 789ms/step - loss: 0.0773 - accuracy: 0.9724 - val_loss: 0.1170 - val_accuracy: 0.9469\n",
      "Epoch 15/25\n",
      "25/25 [==============================] - 20s 789ms/step - loss: 0.0890 - accuracy: 0.9686 - val_loss: 0.1458 - val_accuracy: 0.9420\n",
      "Epoch 16/25\n",
      "25/25 [==============================] - 20s 786ms/step - loss: 0.0890 - accuracy: 0.9699 - val_loss: 0.1599 - val_accuracy: 0.9324\n",
      "Epoch 17/25\n",
      "25/25 [==============================] - 20s 790ms/step - loss: 0.1032 - accuracy: 0.9598 - val_loss: 0.1396 - val_accuracy: 0.9517\n",
      "Epoch 18/25\n",
      "25/25 [==============================] - 20s 809ms/step - loss: 0.1206 - accuracy: 0.9573 - val_loss: 0.1520 - val_accuracy: 0.9420\n",
      "Epoch 19/25\n",
      "25/25 [==============================] - 20s 785ms/step - loss: 0.1014 - accuracy: 0.9661 - val_loss: 0.1777 - val_accuracy: 0.9420\n",
      "Epoch 20/25\n",
      "25/25 [==============================] - 20s 793ms/step - loss: 0.1209 - accuracy: 0.9598 - val_loss: 0.1383 - val_accuracy: 0.9469\n",
      "Epoch 21/25\n",
      "25/25 [==============================] - 20s 786ms/step - loss: 0.1178 - accuracy: 0.9548 - val_loss: 0.1704 - val_accuracy: 0.9130\n",
      "Epoch 22/25\n",
      "25/25 [==============================] - 20s 792ms/step - loss: 0.1435 - accuracy: 0.9548 - val_loss: 0.1797 - val_accuracy: 0.9179\n",
      "Epoch 23/25\n",
      "25/25 [==============================] - 20s 792ms/step - loss: 0.0666 - accuracy: 0.9749 - val_loss: 0.1490 - val_accuracy: 0.9420\n",
      "Epoch 24/25\n",
      "25/25 [==============================] - 20s 790ms/step - loss: 0.0912 - accuracy: 0.9674 - val_loss: 0.1500 - val_accuracy: 0.9372\n",
      "Epoch 25/25\n",
      "25/25 [==============================] - 20s 805ms/step - loss: 0.0872 - accuracy: 0.9699 - val_loss: 0.2467 - val_accuracy: 0.9275\n",
      "Score for fold 2: loss of 0.24668018519878387; accuracy of 92.75362491607666%\n",
      "------------------------------------------------------------------------\n",
      "Training for fold 3 ...\n",
      "Epoch 1/25\n",
      "25/25 [==============================] - 22s 806ms/step - loss: 1.3030 - accuracy: 0.6123 - val_loss: 0.3736 - val_accuracy: 0.8357\n",
      "Epoch 2/25\n",
      "25/25 [==============================] - 20s 803ms/step - loss: 0.3937 - accuracy: 0.8532 - val_loss: 0.2541 - val_accuracy: 0.8937\n",
      "Epoch 3/25\n",
      "25/25 [==============================] - 20s 798ms/step - loss: 0.3411 - accuracy: 0.8821 - val_loss: 0.1918 - val_accuracy: 0.9275\n",
      "Epoch 4/25\n",
      "25/25 [==============================] - 20s 785ms/step - loss: 0.2868 - accuracy: 0.8984 - val_loss: 0.2144 - val_accuracy: 0.9324\n",
      "Epoch 5/25\n",
      "25/25 [==============================] - 20s 796ms/step - loss: 0.1971 - accuracy: 0.9272 - val_loss: 0.1338 - val_accuracy: 0.9710\n",
      "Epoch 6/25\n",
      "25/25 [==============================] - 20s 794ms/step - loss: 0.1724 - accuracy: 0.9410 - val_loss: 0.1221 - val_accuracy: 0.9565\n",
      "Epoch 7/25\n",
      "25/25 [==============================] - 20s 785ms/step - loss: 0.1971 - accuracy: 0.9247 - val_loss: 0.1776 - val_accuracy: 0.9372\n",
      "Epoch 8/25\n",
      "25/25 [==============================] - 20s 800ms/step - loss: 0.1862 - accuracy: 0.9348 - val_loss: 0.1076 - val_accuracy: 0.9758\n",
      "Epoch 9/25\n",
      "25/25 [==============================] - 20s 784ms/step - loss: 0.1647 - accuracy: 0.9310 - val_loss: 0.2169 - val_accuracy: 0.9227\n",
      "Epoch 10/25\n",
      "25/25 [==============================] - 20s 801ms/step - loss: 0.1868 - accuracy: 0.9310 - val_loss: 0.1184 - val_accuracy: 0.9565\n",
      "Epoch 11/25\n",
      "25/25 [==============================] - 20s 787ms/step - loss: 0.1512 - accuracy: 0.9435 - val_loss: 0.1252 - val_accuracy: 0.9517\n",
      "Epoch 12/25\n",
      "25/25 [==============================] - 20s 798ms/step - loss: 0.1266 - accuracy: 0.9498 - val_loss: 0.1251 - val_accuracy: 0.9420\n",
      "Epoch 13/25\n",
      "25/25 [==============================] - 20s 792ms/step - loss: 0.1198 - accuracy: 0.9536 - val_loss: 0.0997 - val_accuracy: 0.9614\n",
      "Epoch 14/25\n",
      "25/25 [==============================] - 20s 788ms/step - loss: 0.1127 - accuracy: 0.9661 - val_loss: 0.1392 - val_accuracy: 0.9614\n",
      "Epoch 15/25\n",
      "25/25 [==============================] - 20s 802ms/step - loss: 0.0986 - accuracy: 0.9649 - val_loss: 0.0952 - val_accuracy: 0.9710\n",
      "Epoch 16/25\n",
      "25/25 [==============================] - 20s 792ms/step - loss: 0.0948 - accuracy: 0.9661 - val_loss: 0.1016 - val_accuracy: 0.9614\n",
      "Epoch 17/25\n",
      "25/25 [==============================] - 20s 788ms/step - loss: 0.0995 - accuracy: 0.9636 - val_loss: 0.1936 - val_accuracy: 0.9324\n",
      "Epoch 18/25\n",
      "25/25 [==============================] - 20s 801ms/step - loss: 0.1062 - accuracy: 0.9636 - val_loss: 0.0902 - val_accuracy: 0.9614\n",
      "Score for fold 3: loss of 0.09019102901220322; accuracy of 96.13526463508606%\n",
      "------------------------------------------------------------------------\n",
      "Training for fold 4 ...\n",
      "Epoch 1/25\n",
      "25/25 [==============================] - 22s 821ms/step - loss: 1.1270 - accuracy: 0.6211 - val_loss: 0.3569 - val_accuracy: 0.8502\n",
      "Epoch 2/25\n",
      "25/25 [==============================] - 20s 802ms/step - loss: 0.3924 - accuracy: 0.8708 - val_loss: 0.2682 - val_accuracy: 0.8792\n",
      "Epoch 3/25\n",
      "25/25 [==============================] - 20s 798ms/step - loss: 0.2832 - accuracy: 0.8971 - val_loss: 0.1995 - val_accuracy: 0.8986\n",
      "Epoch 4/25\n",
      "25/25 [==============================] - 20s 789ms/step - loss: 0.2233 - accuracy: 0.9134 - val_loss: 0.1795 - val_accuracy: 0.9372\n",
      "Epoch 5/25\n",
      "25/25 [==============================] - 20s 799ms/step - loss: 0.2346 - accuracy: 0.9172 - val_loss: 0.2311 - val_accuracy: 0.9082\n",
      "Epoch 6/25\n",
      "25/25 [==============================] - 20s 808ms/step - loss: 0.1649 - accuracy: 0.9486 - val_loss: 0.1523 - val_accuracy: 0.9420\n",
      "Epoch 7/25\n",
      "25/25 [==============================] - 20s 796ms/step - loss: 0.1830 - accuracy: 0.9373 - val_loss: 0.1658 - val_accuracy: 0.9275\n",
      "Epoch 8/25\n",
      "25/25 [==============================] - 20s 811ms/step - loss: 0.1554 - accuracy: 0.9373 - val_loss: 0.2161 - val_accuracy: 0.9179\n",
      "Epoch 9/25\n",
      "25/25 [==============================] - 20s 787ms/step - loss: 0.1712 - accuracy: 0.9410 - val_loss: 0.1374 - val_accuracy: 0.9420\n",
      "Epoch 10/25\n",
      "25/25 [==============================] - 20s 798ms/step - loss: 0.1843 - accuracy: 0.9312 - val_loss: 0.2606 - val_accuracy: 0.8986\n",
      "Epoch 11/25\n",
      "25/25 [==============================] - 20s 797ms/step - loss: 0.1377 - accuracy: 0.9486 - val_loss: 0.1821 - val_accuracy: 0.9275\n",
      "Epoch 12/25\n",
      "25/25 [==============================] - 20s 787ms/step - loss: 0.1265 - accuracy: 0.9486 - val_loss: 0.1566 - val_accuracy: 0.9420\n",
      "Epoch 13/25\n",
      "25/25 [==============================] - 20s 794ms/step - loss: 0.1170 - accuracy: 0.9561 - val_loss: 0.1603 - val_accuracy: 0.9372\n",
      "Epoch 14/25\n",
      "25/25 [==============================] - 20s 796ms/step - loss: 0.1089 - accuracy: 0.9699 - val_loss: 0.3047 - val_accuracy: 0.8841\n",
      "Epoch 15/25\n",
      "25/25 [==============================] - 20s 790ms/step - loss: 0.1063 - accuracy: 0.9611 - val_loss: 0.1424 - val_accuracy: 0.9469\n",
      "Epoch 16/25\n",
      "25/25 [==============================] - 20s 784ms/step - loss: 0.1627 - accuracy: 0.9410 - val_loss: 0.1524 - val_accuracy: 0.9324\n",
      "Epoch 17/25\n",
      "25/25 [==============================] - 20s 798ms/step - loss: 0.1239 - accuracy: 0.9460 - val_loss: 0.2464 - val_accuracy: 0.9082\n",
      "Epoch 18/25\n",
      "25/25 [==============================] - 20s 799ms/step - loss: 0.1142 - accuracy: 0.9575 - val_loss: 0.1762 - val_accuracy: 0.9324\n",
      "Epoch 19/25\n",
      "25/25 [==============================] - 20s 787ms/step - loss: 0.0855 - accuracy: 0.9711 - val_loss: 0.1615 - val_accuracy: 0.9324\n",
      "Epoch 20/25\n",
      "25/25 [==============================] - 20s 800ms/step - loss: 0.0809 - accuracy: 0.9661 - val_loss: 0.1336 - val_accuracy: 0.9420\n",
      "Epoch 21/25\n",
      "25/25 [==============================] - 20s 797ms/step - loss: 0.0929 - accuracy: 0.9636 - val_loss: 0.1421 - val_accuracy: 0.9227\n",
      "Epoch 22/25\n",
      "25/25 [==============================] - 20s 791ms/step - loss: 0.0748 - accuracy: 0.9711 - val_loss: 0.1819 - val_accuracy: 0.9420\n",
      "Epoch 23/25\n",
      "25/25 [==============================] - 20s 803ms/step - loss: 0.0661 - accuracy: 0.9737 - val_loss: 0.1551 - val_accuracy: 0.9420\n",
      "Epoch 24/25\n",
      "25/25 [==============================] - 20s 790ms/step - loss: 0.0846 - accuracy: 0.9711 - val_loss: 0.4558 - val_accuracy: 0.9034\n",
      "Epoch 25/25\n",
      "25/25 [==============================] - 20s 797ms/step - loss: 0.1720 - accuracy: 0.9400 - val_loss: 0.3028 - val_accuracy: 0.9130\n",
      "Score for fold 4: loss of 0.30282828211784363; accuracy of 91.30434989929199%\n",
      "------------------------------------------------------------------------\n",
      "Training for fold 5 ...\n",
      "Epoch 1/25\n",
      "25/25 [==============================] - 21s 807ms/step - loss: 1.6032 - accuracy: 0.5696 - val_loss: 0.5646 - val_accuracy: 0.7971\n",
      "Epoch 2/25\n",
      "25/25 [==============================] - 20s 797ms/step - loss: 0.4335 - accuracy: 0.8381 - val_loss: 0.3108 - val_accuracy: 0.8937\n",
      "Epoch 3/25\n",
      "25/25 [==============================] - 20s 786ms/step - loss: 0.3337 - accuracy: 0.8783 - val_loss: 0.3138 - val_accuracy: 0.8647\n",
      "Epoch 4/25\n",
      "25/25 [==============================] - 20s 782ms/step - loss: 0.2303 - accuracy: 0.9197 - val_loss: 0.3266 - val_accuracy: 0.8792\n",
      "Epoch 5/25\n",
      "25/25 [==============================] - 20s 794ms/step - loss: 0.2228 - accuracy: 0.9272 - val_loss: 0.2905 - val_accuracy: 0.8551\n",
      "Epoch 6/25\n",
      "25/25 [==============================] - 20s 792ms/step - loss: 0.1908 - accuracy: 0.9310 - val_loss: 0.2224 - val_accuracy: 0.9275\n",
      "Epoch 7/25\n",
      "25/25 [==============================] - 20s 790ms/step - loss: 0.1677 - accuracy: 0.9373 - val_loss: 0.2343 - val_accuracy: 0.9082\n",
      "Epoch 8/25\n",
      "25/25 [==============================] - 20s 808ms/step - loss: 0.1485 - accuracy: 0.9536 - val_loss: 0.2132 - val_accuracy: 0.9372\n",
      "Epoch 9/25\n",
      "25/25 [==============================] - 20s 790ms/step - loss: 0.1531 - accuracy: 0.9448 - val_loss: 0.2467 - val_accuracy: 0.9082\n",
      "Epoch 10/25\n",
      "25/25 [==============================] - 20s 796ms/step - loss: 0.1679 - accuracy: 0.9348 - val_loss: 0.2222 - val_accuracy: 0.9227\n",
      "Epoch 11/25\n",
      "25/25 [==============================] - 20s 803ms/step - loss: 0.1170 - accuracy: 0.9473 - val_loss: 0.2045 - val_accuracy: 0.9179\n",
      "Epoch 12/25\n",
      "25/25 [==============================] - 20s 788ms/step - loss: 0.1151 - accuracy: 0.9536 - val_loss: 0.2868 - val_accuracy: 0.8986\n",
      "Epoch 13/25\n",
      "25/25 [==============================] - 20s 803ms/step - loss: 0.1099 - accuracy: 0.9674 - val_loss: 0.2163 - val_accuracy: 0.9082\n",
      "Epoch 14/25\n",
      "25/25 [==============================] - 20s 789ms/step - loss: 0.0971 - accuracy: 0.9636 - val_loss: 0.1895 - val_accuracy: 0.9372\n",
      "Epoch 15/25\n",
      "25/25 [==============================] - 20s 795ms/step - loss: 0.0780 - accuracy: 0.9724 - val_loss: 0.3036 - val_accuracy: 0.9082\n",
      "Epoch 16/25\n",
      "25/25 [==============================] - 20s 798ms/step - loss: 0.1385 - accuracy: 0.9348 - val_loss: 0.2937 - val_accuracy: 0.8841\n",
      "Epoch 17/25\n",
      "25/25 [==============================] - 20s 790ms/step - loss: 0.1250 - accuracy: 0.9486 - val_loss: 0.2140 - val_accuracy: 0.9275\n",
      "Epoch 18/25\n",
      "25/25 [==============================] - 21s 828ms/step - loss: 0.0839 - accuracy: 0.9724 - val_loss: 0.2308 - val_accuracy: 0.9275\n",
      "Score for fold 5: loss of 0.2307596057653427; accuracy of 92.75362491607666%\n",
      "------------------------------------------------------------------------\n",
      "------------------------------------------------------------------------\n",
      "Score per fold\n",
      "------------------------------------------------------------------------\n",
      "> Fold 1 - Validation Loss: 0.191859170794487 - Validation Accuracy: 93.2692289352417%\n",
      "------------------------------------------------------------------------\n",
      "> Fold 2 - Validation Loss: 0.24668018519878387 - Validation Accuracy: 92.75362491607666%\n",
      "------------------------------------------------------------------------\n",
      "> Fold 3 - Validation Loss: 0.09019102901220322 - Validation Accuracy: 96.13526463508606%\n",
      "------------------------------------------------------------------------\n",
      "> Fold 4 - Validation Loss: 0.30282828211784363 - Validation Accuracy: 91.30434989929199%\n",
      "------------------------------------------------------------------------\n",
      "> Fold 5 - Validation Loss: 0.2307596057653427 - Validation Accuracy: 92.75362491607666%\n",
      "------------------------------------------------------------------------\n",
      "Average scores for all folds:\n",
      "> Validation Accuracy: 93.24321866035461 (+- 1.5876537781176838)\n",
      "> Validation Loss: 0.2124636545777321\n",
      "------------------------------------------------------------------------\n"
     ]
    }
   ],
   "source": [
    "kfold = KFold(n_splits=num_folds, shuffle=True, random_state=42)\n",
    "fold_no = 1\n",
    "for train, val in kfold.split(X_train, Y_train):\n",
    "    print(f'Training for fold {fold_no} ...')\n",
    "    X_train_cv, X_val_cv = X_train[train], X_train[val]\n",
    "    Y_train_cv, Y_val_cv = Y_train[train], Y_train[val]\n",
    "    \n",
    "    # Define your model here and compile it\n",
    "    # Create the base model of MobileNet\n",
    "    model = MobileNet(weights='imagenet', include_top=False, input_shape=(height, width, depth))\n",
    "\n",
    "    # Freeze the layers\n",
    "    for layer in model.layers:\n",
    "        layer.trainable = False\n",
    "\n",
    "    # Add new layers\n",
    "    x = model.output\n",
    "    x = GlobalAveragePooling2D()(x)\n",
    "    x = Dense(1024, activation='relu')(x)\n",
    "    x = Dropout(0.5)(x)\n",
    "    predictions = Dense(n_classes, activation='softmax')(x)\n",
    "\n",
    "    # Create the final model\n",
    "    model = Model(inputs=model.input, outputs=predictions)\n",
    "    \n",
    "    opt = Adam(learning_rate=INIT_LR, decay=INIT_LR / EPOCHS)\n",
    "    # distribution\n",
    "    model.compile(loss=\"categorical_crossentropy\", optimizer=opt,metrics=[\"accuracy\"])\n",
    "    \n",
    "    early_stopping = EarlyStopping(monitor='val_accuracy', patience=10)\n",
    "    \n",
    "    # Train the model \n",
    "    history = model.fit(\n",
    "        aug.flow(X_train_cv, Y_train_cv, batch_size=BS),\n",
    "        validation_data=(X_val_cv, Y_val_cv),\n",
    "        steps_per_epoch=len(X_train_cv) // BS,\n",
    "        epochs=EPOCHS, verbose=1,\n",
    "        callbacks=[early_stopping])\n",
    "\n",
    "    # Generate generalization metrics\n",
    "    scores = model.evaluate(X_val_cv, Y_val_cv, verbose=0)\n",
    "    print(f'Score for fold {fold_no}: {model.metrics_names[0]} of {scores[0]}; {model.metrics_names[1]} of {scores[1]*100}%')\n",
    "    print('------------------------------------------------------------------------')\n",
    "    acc_per_fold.append(scores[1] * 100)\n",
    "    loss_per_fold.append(scores[0])\n",
    "    \n",
    "    \n",
    "    fold_no += 1\n",
    "    \n",
    "# == Provide average scores ==\n",
    "print('------------------------------------------------------------------------')\n",
    "print('Score per fold')\n",
    "for i in range(0, len(acc_per_fold)):\n",
    "  print('------------------------------------------------------------------------')\n",
    "  print(f'> Fold {i+1} - Validation Loss: {loss_per_fold[i]} - Validation Accuracy: {acc_per_fold[i]}%')\n",
    "print('------------------------------------------------------------------------')\n",
    "print('Average scores for all folds:')\n",
    "print(f'> Validation Accuracy: {np.mean(acc_per_fold)} (+- {np.std(acc_per_fold)})')\n",
    "print(f'> Validation Loss: {np.mean(loss_per_fold)}')\n",
    "print('------------------------------------------------------------------------')"
   ]
  },
  {
   "cell_type": "code",
   "execution_count": 13,
   "metadata": {
    "id": "N88ct5WonIVV"
   },
   "outputs": [
    {
     "data": {
      "image/png": "[encoded data removed]",
      "text/plain": [
       "<Figure size 640x480 with 1 Axes>"
      ]
     },
     "metadata": {},
     "output_type": "display_data"
    },
    {
     "data": {
      "image/png": "[encoded data removed]",
      "text/plain": [
       "<Figure size 640x480 with 1 Axes>"
      ]
     },
     "metadata": {},
     "output_type": "display_data"
    }
   ],
   "source": [
    "acc = history.history['accuracy']\n",
    "val_acc = history.history['val_accuracy']\n",
    "loss = history.history['loss']\n",
    "val_loss = history.history['val_loss']\n",
    "epochs = range(1, len(acc) + 1)\n",
    "#Train and validation accuracy\n",
    "plt.plot(epochs, acc, 'b', label='Training accuracy')\n",
    "plt.plot(epochs, val_acc, 'r', label='Validation accuracy')\n",
    "plt.title('Training & Validation accuracy')\n",
    "plt.legend()\n",
    "\n",
    "plt.figure()\n",
    "#Train and validation loss\n",
    "plt.plot(epochs, loss, 'b', label='Training loss')\n",
    "plt.plot(epochs, val_loss, 'r', label='Validation loss')\n",
    "plt.title('Training & Validation loss')\n",
    "plt.legend()\n",
    "plt.show()"
   ]
  },
  {
   "cell_type": "code",
   "execution_count": 14,
   "metadata": {},
   "outputs": [
    {
     "name": "stdout",
     "output_type": "stream",
     "text": [
      "Test Loss: 0.14085771143436432\n",
      "Test Accuracy: 96.55172228813171%\n"
     ]
    }
   ],
   "source": [
    "# evaluate the model on unseen test data\n",
    "test_loss, test_acc = model.evaluate(X_test, Y_test, verbose=0)\n",
    "print(f'Test Loss: {test_loss}')\n",
    "print(f'Test Accuracy: {test_acc*100}%')"
   ]
  },
  {
   "cell_type": "code",
   "execution_count": 15,
   "metadata": {
    "id": "oRWK2TLxnIVZ",
    "scrolled": true
   },
   "outputs": [
    {
     "name": "stdout",
     "output_type": "stream",
     "text": [
      "[INFO] Saving model...\n"
     ]
    }
   ],
   "source": [
    "print(\"[INFO] Saving model...\")\n",
    "save_path = './model.h5'\n",
    "model.save(save_path)"
   ]
  },
  {
   "cell_type": "code",
   "execution_count": 16,
   "metadata": {
    "id": "TAEXXdCTnIVa"
   },
   "outputs": [],
   "source": [
    "loaded_model= tensorflow.keras.models.load_model(save_path)"
   ]
  },
  {
   "cell_type": "code",
   "execution_count": 17,
   "metadata": {
    "id": "sgzAX_IOnIVb"
   },
   "outputs": [],
   "source": [
    "image_dir=\"D:\\\\KULIAH\\\\SKRIPSI\\\\Dataset\\\\PlantVillage\\\\Tomato_Late_blight\\\\0a3f65fc-ef1c-4aed-b235-46bae4e5c0e7___GHLB2 Leaf 9065.JPG\"\n",
    "\n",
    "im=convert_image_to_array(image_dir)\n",
    "np_image_li = np.array(im, dtype=np.float32) / 225.0\n",
    "npp_image = np.expand_dims(np_image_li, axis=0)"
   ]
  },
  {
   "cell_type": "code",
   "execution_count": 18,
   "metadata": {
    "id": "v4hV_XgFnIVb"
   },
   "outputs": [
    {
     "name": "stdout",
     "output_type": "stream",
     "text": [
      "1/1 [==============================] - 0s 384ms/step\n",
      "probability:0.9996159\n",
      "Tomato_Late_blight\n"
     ]
    }
   ],
   "source": [
    "result=model.predict(npp_image)\n",
    "itemindex = np.where(result==np.max(result))\n",
    "print(\"probability:\"+str(np.max(result))+\"\\n\"+label_binarizer.classes_[itemindex[1][0]])"
   ]
  },
  {
   "cell_type": "code",
   "execution_count": 19,
   "metadata": {},
   "outputs": [
    {
     "name": "stdout",
     "output_type": "stream",
     "text": [
      "4/4 [==============================] - 2s 556ms/step\n"
     ]
    },
    {
     "data": {
      "image/png": "[encoded data removed]",
      "text/plain": [
       "<Figure size 640x480 with 2 Axes>"
      ]
     },
     "metadata": {},
     "output_type": "display_data"
    }
   ],
   "source": [
    "#Confusion Matrix\n",
    "results=model.predict(X_test)\n",
    "predicted_classes = np.argmax(results, axis=1)\n",
    "true_classes = np.argmax(Y_test, axis=1)\n",
    "confusion = confusion_matrix(true_classes, predicted_classes)\n",
    "\n",
    "# create heatmap\n",
    "sn.heatmap(confusion, annot=True, cmap='Blues', fmt='d')\n",
    "\n",
    "# add x and y labels\n",
    "plt.xlabel('Predicted')\n",
    "plt.ylabel('True')\n",
    "\n",
    "# show plot\n",
    "plt.show()"
   ]
  },
  {
   "cell_type": "code",
   "execution_count": 20,
   "metadata": {},
   "outputs": [
    {
     "name": "stdout",
     "output_type": "stream",
     "text": [
      "Test Accuracy: 96.55172413793103%\n",
      "F1 score: 0.9654206510190283\n",
      "Precision: 0.9670846394984326\n",
      "Recall: 0.9655172413793104\n"
     ]
    }
   ],
   "source": [
    "#Performance Metrics\n",
    "acc = accuracy_score(true_classes, predicted_classes)\n",
    "print(f'Test Accuracy: {acc*100}%')\n",
    "\n",
    "f1 = f1_score(true_classes, predicted_classes, average='weighted')\n",
    "print(f'F1 score: {f1}')\n",
    "\n",
    "precision = precision_score(true_classes, predicted_classes, average='weighted')\n",
    "print(f'Precision: {precision}')\n",
    "\n",
    "recall = recall_score(true_classes, predicted_classes, average='weighted')\n",
    "print(f'Recall: {recall}')"
   ]
  }
 ],
 "metadata": {
  "accelerator": "TPU",
  "colab": {
   "provenance": []
  },
  "gpuClass": "standard",
  "kernelspec": {
   "display_name": "Python 3 (ipykernel)",
   "language": "python",
   "name": "python3"
  },
  "language_info": {
   "codemirror_mode": {
    "name": "ipython",
    "version": 3
   },
   "file_extension": ".py",
   "mimetype": "text/x-python",
   "name": "python",
   "nbconvert_exporter": "python",
   "pygments_lexer": "ipython3",
   "version": "3.9.13"
  }
 },
 "nbformat": 4,
 "nbformat_minor": 1
}
